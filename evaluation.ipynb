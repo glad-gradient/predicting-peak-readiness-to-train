{
 "cells": [
  {
   "cell_type": "code",
   "execution_count": 1,
   "metadata": {
    "collapsed": true
   },
   "outputs": [
    {
     "name": "stderr",
     "output_type": "stream",
     "text": [
      "Using TensorFlow backend.\n"
     ]
    }
   ],
   "source": [
    "import json\n",
    "\n",
    "import pandas as pd\n",
    "import numpy as np\n",
    "import matplotlib.pyplot as plt\n",
    "from sklearn.model_selection import train_test_split\n",
    "from sklearn.preprocessing import MinMaxScaler\n",
    "from sklearn.metrics import f1_score, classification_report, plot_confusion_matrix\n",
    "from keras.models import load_model\n",
    "\n",
    "from utils import split_sequences"
   ]
  },
  {
   "cell_type": "code",
   "execution_count": 17,
   "metadata": {},
   "outputs": [
    {
     "name": "stdout",
     "output_type": "stream",
     "text": [
      "On training data\nF1 weighted:  0.7065247232430838\nOn test data\nF1 weighted:  0.6801459817927591\n"
     ]
    }
   ],
   "source": [
    "with open('configs.json', 'r') as file:\n",
    "    configs = json.load(file)\n",
    " \n",
    "MODEL_CHECKPOINT_PATH = configs[\"MODEL_CHECKPOINT_PATH\"]\n",
    "lookback_window = configs['LOOKBACK_WINDOW']\n",
    "lookforward_window = configs['LOOKFORWARD_WINDOW']\n",
    "\n",
    "df = pd.read_csv('dataset.csv')\n",
    "\n",
    "df['readiness_group'] = pd.cut(df['readiness'], 3, labels=[0, 1, 2])\n",
    "\n",
    "X, y = split_sequences(\n",
    "    df,\n",
    "    lookback_window,\n",
    "    lookforward_window,\n",
    "    y_variable_name='readiness_group',\n",
    "    exclude_columns=['pid', 'date', 'readiness', 'readiness_group']\n",
    ")\n",
    "\n",
    "nsamples, nx, ny = X.shape\n",
    "X = X.reshape((nsamples, nx * ny))\n",
    "\n",
    "X_train, X_test, y_train, y_test = train_test_split(X, y, test_size=0.2, random_state=configs[\"RANDOM_STATE\"], shuffle=True)\n",
    "\n",
    "# MinMaxScaler\n",
    "minmax_scaler = MinMaxScaler()\n",
    "X_train = minmax_scaler.fit_transform(X_train)\n",
    "X_test = minmax_scaler.transform(X_test)\n",
    "\n",
    "nsamples = X_train.shape[0]\n",
    "X_train = X_train.reshape((nsamples, nx, ny))\n",
    "\n",
    "nsamples = X_test.shape[0]\n",
    "X_test = X_test.reshape((nsamples, nx, ny))\n",
    "\n",
    "classifier = load_model(f'{MODEL_CHECKPOINT_PATH}/readiness_cnn_classifier_keras_6_1_10_3_64.hdf5')\n",
    "\n",
    "y_train_pred = np.argmax(classifier.predict(X_train), axis=-1)\n",
    "y_test_pred = np.argmax(classifier.predict(X_test), axis=-1)\n",
    "\n",
    "print('On training data')\n",
    "print('F1 weighted: ', f1_score(y_train, y_train_pred, average='weighted'))\n",
    "\n",
    "print('On test data')\n",
    "print('F1 weighted: ', f1_score(y_test, y_test_pred, average='weighted'))"
   ]
  },
  {
   "cell_type": "code",
   "execution_count": 18,
   "metadata": {},
   "outputs": [
    {
     "name": "stdout",
     "output_type": "stream",
     "text": [
      "Classification report for classifier :\n              precision    recall  f1-score   support\n\n           0       0.52      0.39      0.45        61\n           1       0.77      0.80      0.79       215\n           2       0.50      0.55      0.52        55\n\n    accuracy                           0.69       331\n   macro avg       0.60      0.58      0.59       331\nweighted avg       0.68      0.69      0.68       331\n\n\n"
     ]
    }
   ],
   "source": [
    "print(\"Classification report for classifier %s:\\n%s\\n\" % ('', classification_report(y_test, y_test_pred)))"
   ]
  }
 ],
 "metadata": {
  "kernelspec": {
   "display_name": "Python 2",
   "language": "python",
   "name": "python2"
  },
  "language_info": {
   "codemirror_mode": {
    "name": "ipython",
    "version": 2
   },
   "file_extension": ".py",
   "mimetype": "text/x-python",
   "name": "python",
   "nbconvert_exporter": "python",
   "pygments_lexer": "ipython2",
   "version": "2.7.6"
  }
 },
 "nbformat": 4,
 "nbformat_minor": 0
}
