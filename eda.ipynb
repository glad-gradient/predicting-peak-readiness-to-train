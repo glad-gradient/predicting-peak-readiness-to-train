{
 "cells": [
  {
   "cell_type": "code",
   "execution_count": null,
   "metadata": {
    "collapsed": true
   },
   "outputs": [],
   "source": [
    "from datetime import datetime\n",
    "import json\n",
    "import os\n",
    "import matplotlib.pyplot as plt\n",
    "\n",
    "import numpy as np\n",
    "import pandas as pd\n",
    "import dateutil.parser\n",
    "\n",
    "import seaborn as sns\n",
    "sns.set(style=\"whitegrid\")\n"
   ]
  },
  {
   "cell_type": "code",
   "execution_count": 11,
   "metadata": {},
   "outputs": [],
   "source": [
    "with open('configs.json', 'r') as f:\n",
    "    configs = json.load(f)\n",
    "\n",
    "path = configs['DATA_DIRECTORY']\n",
    "\n",
    "list_subfolders_with_paths = [f.path for f in os.scandir(path) if f.is_dir()]\n"
   ]
  },
  {
   "cell_type": "code",
   "execution_count": 27,
   "metadata": {},
   "outputs": [
    {
     "name": "stdout",
     "output_type": "stream",
     "text": [
      "File 'D:\\Pet\\Datasets\\pmdata\\p08\\pmsys\\injury.csv' doesn't exist!\n"
     ]
    }
   ],
   "source": [
    "srpe = pd.DataFrame()\n",
    "wellness = pd.DataFrame()\n",
    "injury = pd.DataFrame()\n",
    "\n",
    "for i, path in enumerate(list_subfolders_with_paths):\n",
    "    # read srpe data\n",
    "    srpe_file = f'{path}\\\\pmsys\\\\srpe.csv'\n",
    "    if os.path.exists(srpe_file):\n",
    "        srpe_temp = pd.read_csv(srpe_file)\n",
    "        srpe_temp['pid'] = i + 1\n",
    "        srpe_temp['end_date_time'] = srpe_temp['end_date_time'].apply(lambda x: \n",
    "                                                                 datetime.utcfromtimestamp(int(dateutil.parser.parse(x).timestamp())))\n",
    "        srpe_temp.sort_values('end_date_time', inplace=True)\n",
    "        srpe = pd.concat([srpe, srpe_temp], ignore_index=True)\n",
    "    else:\n",
    "        print(f\"File {srpe_file} doesn't exist!\")\n",
    "    \n",
    "    # read wellness data\n",
    "    wellness_file = f'{path}\\\\pmsys\\\\wellness.csv'  # effective_time_frame\n",
    "    if os.path.exists(wellness_file):\n",
    "        wellness_temp = pd.read_csv(wellness_file)\n",
    "        wellness_temp['pid'] = i + 1\n",
    "        wellness_temp['effective_time_frame'] = wellness_temp['effective_time_frame'].apply(\n",
    "            lambda x: datetime.utcfromtimestamp(int(dateutil.parser.parse(x).timestamp()))\n",
    "        )\n",
    "        wellness_temp.sort_values('effective_time_frame', inplace=True)\n",
    "        wellness = pd.concat([wellness, wellness_temp], ignore_index=True)\n",
    "    else:\n",
    "        print(f\"File {wellness_file} doesn't exist!\")\n",
    "    \n",
    "    # read injury data\n",
    "    injury_file = f'{path}\\\\pmsys\\\\injury.csv'\n",
    "    if os.path.exists(injury_file):\n",
    "        injury_temp = pd.read_csv(injury_file)\n",
    "        injury_temp['pid'] = i + 1\n",
    "        injury_temp['effective_time_frame'] = injury_temp['effective_time_frame'].apply(\n",
    "            lambda x: datetime.utcfromtimestamp(int(dateutil.parser.parse(x).timestamp()))\n",
    "        )\n",
    "        injury_temp.sort_values('effective_time_frame', inplace=True)\n",
    "        injury = pd.concat([injury, injury_temp], ignore_index=True)\n",
    "    else:\n",
    "        print(f\"File '{injury_file}' doesn't exist!\")\n",
    "       \n",
    "    \n"
   ]
  },
  {
   "cell_type": "code",
   "execution_count": null,
   "metadata": {},
   "outputs": [],
   "source": [
    "srpe.head()"
   ]
  },
  {
   "cell_type": "code",
   "execution_count": null,
   "metadata": {},
   "outputs": [],
   "source": [
    "print(\"****************** SRPE ******************\")\n",
    "print(\"Total numbers of records:\", len(srpe))\n",
    "print(\"Number of entries equal to null:\")\n",
    "print(\"   end_date_time: \", len(srpe.loc[srpe['end_date_time'].isnull()])) \n",
    "print(\"   perceived_exertion: \", len(srpe.loc[srpe['perceived_exertion'].isnull()]))\n",
    "print(\"   duration_min: \", len(srpe.loc[srpe['duration_min'].isnull()]))"
   ]
  },
  {
   "cell_type": "code",
   "execution_count": null,
   "metadata": {},
   "outputs": [],
   "source": [
    "fig, axs = plt.subplots(int(np.ceil(len(srpe['pid'].unique()) / 3)), 3, figsize=(12, 10))\n",
    "\n",
    "for pid in srpe['pid'].unique():\n",
    "    y = srpe.loc[srpe['pid'] == pid, ['perceived_exertion', 'duration_min']]\n",
    "    axs[int((pid-1) // 3), int((pid-1) % 3)].plot(y['perceived_exertion'] * y['duration_min'])\n",
    "    axs[int((pid-1) // 3), int((pid-1) % 3)].set_title(f'Participant {pid}')\n",
    "\n",
    "for ax in axs.flat:\n",
    "    ax.set(ylabel='SRPE')\n",
    "\n",
    "# Hide x labels and tick labels for top plots and y ticks for right plots.\n",
    "for ax in axs.flat:\n",
    "    ax.label_outer()"
   ]
  },
  {
   "cell_type": "code",
   "execution_count": null,
   "metadata": {},
   "outputs": [],
   "source": [
    "srpe['date'] = srpe['end_date_time'].apply(lambda x: x.date())\n",
    "\n",
    "srpe.head()"
   ]
  },
  {
   "cell_type": "code",
   "execution_count": null,
   "metadata": {},
   "outputs": [],
   "source": [
    "duplicate_rows = srpe[srpe.duplicated(['date', 'pid'])]\n",
    "print(duplicate_rows)"
   ]
  },
  {
   "cell_type": "code",
   "execution_count": null,
   "metadata": {},
   "outputs": [],
   "source": [
    "srpe_aggregated = srpe.groupby(['date', 'pid']).aggregate({'perceived_exertion': 'sum', 'duration_min': 'sum'}).reset_index()\n",
    "\n",
    "srpe_aggregated.head()"
   ]
  },
  {
   "cell_type": "code",
   "execution_count": null,
   "metadata": {},
   "outputs": [],
   "source": [
    "print('Statistics: ')\n",
    "srpe_aggregated.loc[:, ['perceived_exertion', 'duration_min']].describe()"
   ]
  },
  {
   "cell_type": "code",
   "execution_count": null,
   "metadata": {},
   "outputs": [],
   "source": [
    "week_days = ['Monday', 'Tuesday', 'Wednesday', 'Thursday', 'Friday', 'Saturday', 'Sunday']\n",
    "srpe_aggregated['weekday'] = srpe_aggregated['date'].apply(lambda x: week_days[x.weekday()])"
   ]
  },
  {
   "cell_type": "code",
   "execution_count": null,
   "metadata": {},
   "outputs": [],
   "source": [
    "fig = plt.figure(figsize=(8, 6))\n",
    "plt.hist(srpe_aggregated['weekday'])\n",
    "plt.show()\n"
   ]
  },
  {
   "cell_type": "heading",
   "metadata": {},
   "level": 3,
   "source": [
    "# Wellness"
   ]
  },
  {
   "cell_type": "code",
   "execution_count": null,
   "metadata": {},
   "outputs": [],
   "source": [
    "wellness.head()"
   ]
  },
  {
   "cell_type": "code",
   "execution_count": null,
   "metadata": {},
   "outputs": [],
   "source": [
    "wellness.loc[wellness['soreness_area'] == '[]', 'soreness_area'] = None\n",
    "wellness.loc[wellness[\"soreness_area\"].notnull(), 'soreness_area'] = wellness.loc[wellness[\"soreness_area\"].notnull(), 'soreness_area'].apply(lambda x: json.loads(x.replace(\"'\", '\"')))"
   ]
  },
  {
   "cell_type": "code",
   "execution_count": null,
   "metadata": {},
   "outputs": [],
   "source": [
    "print(\"***************** Wellness *****************\")\n",
    "print(\"Total numbers of records:\", len(wellness))\n",
    "print(\"Number of entries equal to null:\")\n",
    "print(\"   effective_time_frame: \", len(wellness.loc[wellness['effective_time_frame'].isnull()])) \n",
    "print(\"   fatigue: \", len(wellness.loc[wellness['fatigue'].isnull()]))\n",
    "print(\"   mood: \", len(wellness.loc[wellness['mood'].isnull()]))\n",
    "print(\"   readiness: \", len(wellness.loc[wellness['readiness'].isnull()]))\n",
    "print(\"   sleep_duration_h: \", len(wellness.loc[wellness['sleep_duration_h'].isnull()]))\n",
    "print(\"   sleep_quality: \", len(wellness.loc[wellness['sleep_quality'].isnull()]))\n",
    "print(\"   soreness: \", len(wellness.loc[wellness['soreness'].isnull()]))\n",
    "print(\"   soreness_area: \", len(wellness.loc[wellness['soreness_area'].isnull()]))\n",
    "print(\"   stress: \", len(wellness.loc[wellness['stress'].isnull()]))"
   ]
  },
  {
   "cell_type": "code",
   "execution_count": null,
   "metadata": {},
   "outputs": [],
   "source": [
    "sns.pairplot(wellness.loc[:, ['mood', 'stress', 'soreness', 'fatigue', 'sleep_duration_h', 'sleep_quality', 'readiness']])"
   ]
  },
  {
   "cell_type": "code",
   "execution_count": null,
   "metadata": {},
   "outputs": [],
   "source": [
    "wellness['date'] = wellness['effective_time_frame'].apply(lambda x: x.date())\n",
    "\n",
    "wellness.head()"
   ]
  },
  {
   "cell_type": "heading",
   "metadata": {},
   "level": 3,
   "source": [
    "# "
   ]
  },
  {
   "cell_type": "code",
   "execution_count": null,
   "metadata": {},
   "outputs": [],
   "source": [
    "injury.head()"
   ]
  },
  {
   "cell_type": "code",
   "execution_count": null,
   "metadata": {},
   "outputs": [],
   "source": [
    "injury.loc[injury['injuries'] == '{}', 'injuries'] = None\n",
    "injury.loc[injury[\"injuries\"].notnull(), 'injuries'] = injury.loc[injury[\"injuries\"].notnull(), 'injuries'].apply(lambda x: json.loads(x.replace(\"'\", '\"')))"
   ]
  },
  {
   "cell_type": "code",
   "execution_count": null,
   "metadata": {},
   "outputs": [],
   "source": [
    "print(\"****************** Injury *******************\")\n",
    "print(\"Total numbers of records:\", len(injury))\n",
    "print(\"Number of entries equal to null:\")\n",
    "print(\"   effective_time_frame: \", len(injury.loc[injury['effective_time_frame'].isnull()])) \n",
    "print(\"   injuries: \", len(injury.loc[injury['injuries'].isnull()]))\n"
   ]
  },
  {
   "cell_type": "code",
   "execution_count": null,
   "metadata": {},
   "outputs": [],
   "source": [
    "injury['date'] = injury['effective_time_frame'].apply(lambda x: x.date())\n",
    "\n",
    "injury.head()"
   ]
  },
  {
   "cell_type": "code",
   "execution_count": null,
   "metadata": {},
   "outputs": [],
   "source": [
    "# minor = 1\n",
    "# major = 2\n",
    "def severity(data):  \n",
    "    _severity = 0\n",
    "    for day_group in data['injuries'].values:\n",
    "        for k, v in day_group.items():\n",
    "            if v == 'minor':\n",
    "                _severity += 1\n",
    "            elif v == 'major':\n",
    "                _severity += 2\n",
    "            else:\n",
    "                print('Different type of severity!')\n",
    "    return _severity  \n",
    "\n",
    "\n",
    "injury_severity = pd.DataFrame()\n",
    "\n",
    "for pid, injury_group in injury.loc[injury[\"injuries\"].notnull()].groupby('pid'):\n",
    "    dates = list()\n",
    "    severities = list()\n",
    "    for date, group in injury_group.groupby('date'):\n",
    "        dates.append(date)\n",
    "        severities.append(severity(group))\n",
    "    severity_temp = pd.DataFrame({'date': dates, 'injury_severity': severities})\n",
    "    severity_temp['pid'] = pid\n",
    "    severity_temp.sort_values('date', inplace=True)\n",
    "    injury_severity = pd.concat([injury_severity, severity_temp], ignore_index=True)"
   ]
  },
  {
   "cell_type": "code",
   "execution_count": null,
   "metadata": {},
   "outputs": [],
   "source": [
    "injury_severity.head()"
   ]
  },
  {
   "cell_type": "code",
   "execution_count": null,
   "metadata": {},
   "outputs": [],
   "source": [
    "print('The number of days with injury by participant id: ')\n",
    "injury_severity['pid'].value_counts()"
   ]
  },
  {
   "cell_type": "heading",
   "metadata": {},
   "level": 3,
   "source": [
    "# Merge datasets"
   ]
  },
  {
   "cell_type": "code",
   "execution_count": null,
   "metadata": {},
   "outputs": [],
   "source": [
    "df = wellness.merge(injury_severity, how='left', on=['pid', 'date'])\n",
    "\n",
    "df = df.merge(srpe_aggregated.loc[:, ['date', 'pid', 'perceived_exertion', 'duration_min']], how='left', on=['pid', 'date'])"
   ]
  },
  {
   "cell_type": "code",
   "execution_count": null,
   "metadata": {},
   "outputs": [],
   "source": [
    "df.loc[df['injury_severity'].isnull(), 'injury_severity'] = 0\n",
    "df.loc[df['perceived_exertion'].isnull(), 'perceived_exertion'] = 0\n",
    "df.loc[df['duration_min'].isnull(), 'duration_min'] = 0"
   ]
  },
  {
   "cell_type": "code",
   "execution_count": null,
   "metadata": {},
   "outputs": [],
   "source": [
    "df.drop(columns=['effective_time_frame', 'soreness_area'], inplace=True)"
   ]
  },
  {
   "cell_type": "code",
   "execution_count": null,
   "metadata": {},
   "outputs": [],
   "source": [
    "df.head()"
   ]
  },
  {
   "cell_type": "code",
   "execution_count": null,
   "metadata": {},
   "outputs": [],
   "source": [
    "len(df)"
   ]
  },
  {
   "cell_type": "code",
   "execution_count": null,
   "metadata": {},
   "outputs": [],
   "source": [
    "df['pid'].value_counts()"
   ]
  },
  {
   "cell_type": "code",
   "execution_count": null,
   "metadata": {},
   "outputs": [],
   "source": [
    "print('Non-NA cells for each column:')\n",
    "df.count()"
   ]
  },
  {
   "cell_type": "code",
   "execution_count": null,
   "metadata": {},
   "outputs": [],
   "source": [
    "df['srpe'] = df['perceived_exertion'] * df['duration_min']\n",
    "\n",
    "# Reflection of training variation across the week\n",
    "# Monotony = Mean sRPE/Standard Deviation\n",
    "df['monotony'] = df.groupby('pid')['srpe'].apply(lambda x: x.rolling(7).mean() / x.rolling(7).std())\n",
    "\n",
    "# Reflection of overall training stress from the week\n",
    "# Strain = Weekly sRPE*Monotony\n",
    "df['strain'] = df.groupby('pid')['srpe'].apply(lambda x: x.rolling(7).sum() * (x.rolling(7).mean() / x.rolling(7).std()))"
   ]
  },
  {
   "cell_type": "code",
   "execution_count": null,
   "metadata": {},
   "outputs": [],
   "source": [
    "srpe_statistics = pd.DataFrame(columns=['pid', 'mean', 'std'])\n",
    "monotony_statistics = pd.DataFrame(columns=['pid', 'mean', 'std'])\n",
    "strain_statistics = pd.DataFrame(columns=['pid', 'mean', 'std'])\n",
    "\n",
    "for pid, group in df.groupby('pid'):\n",
    "    srpe_statistics = srpe_statistics.append(\n",
    "        {\n",
    "            'pid': pid,\n",
    "            'mean': group['srpe'].mean(),           \n",
    "            'std': group['srpe'].std()\n",
    "        },\n",
    "        ignore_index=True\n",
    "    )\n",
    "    \n",
    "    monotony_statistics = monotony_statistics.append(\n",
    "        {\n",
    "            'pid': pid,\n",
    "            'mean': group['monotony'].mean(),            \n",
    "            'std': group['monotony'].std()\n",
    "        },\n",
    "        ignore_index=True\n",
    "    )\n",
    "    \n",
    "    strain_statistics = strain_statistics.append(\n",
    "        {\n",
    "            'pid': pid,\n",
    "            'mean': group['strain'].mean(),            \n",
    "            'std': group['strain'].std()\n",
    "        },\n",
    "        ignore_index=True\n",
    "    )   \n",
    "    \n",
    "srpe_statistics.set_index('pid', inplace=True)\n",
    "monotony_statistics.set_index('pid', inplace=True)\n",
    "strain_statistics.set_index('pid', inplace=True)\n",
    "\n",
    "srpe_statistics.index = srpe_statistics.index.astype(int)\n",
    "monotony_statistics.index = monotony_statistics.index.astype(int)\n",
    "strain_statistics.index = strain_statistics.index.astype(int)\n",
    "    "
   ]
  },
  {
   "cell_type": "code",
   "execution_count": null,
   "metadata": {},
   "outputs": [],
   "source": [
    "srpe_statistics.plot.bar(rot=0, subplots=True, figsize=(8, 6), title='SRPE Statistics')\n",
    "monotony_statistics.plot.bar(rot=0, subplots=True, figsize=(8, 6), title='Monotony Statistics')\n",
    "strain_statistics.plot.bar(rot=0, subplots=True, figsize=(8, 6), title='Strain Statistics')\n",
    "plt.show()"
   ]
  },
  {
   "cell_type": "code",
   "execution_count": null,
   "metadata": {},
   "outputs": [],
   "source": [
    "fig, axs = plt.subplots(int(np.ceil(len(df['pid'].unique()) / 3)), 3, figsize=(12, 10))\n",
    "\n",
    "for pid in df['pid'].unique():\n",
    "    y = df.loc[df['pid'] == pid, ['monotony']]\n",
    "    axs[int((pid-1) // 3), int((pid-1) % 3)].plot(y)\n",
    "    axs[int((pid-1) // 3), int((pid-1) % 3)].set_title(f'Participant {pid}')\n",
    "\n",
    "for ax in axs.flat:\n",
    "    ax.set(ylabel='Monotony')\n",
    "\n",
    "# Hide x labels and tick labels for top plots and y ticks for right plots.\n",
    "for ax in axs.flat:\n",
    "    ax.label_outer()"
   ]
  },
  {
   "cell_type": "code",
   "execution_count": null,
   "metadata": {},
   "outputs": [],
   "source": [
    "fig, axs = plt.subplots(int(np.ceil(len(df['pid'].unique()) / 3)), 3, figsize=(12, 10))\n",
    "\n",
    "for pid in df['pid'].unique():\n",
    "    y = df.loc[df['pid'] == pid, ['strain']]\n",
    "    axs[int((pid-1) // 3), int((pid-1) % 3)].plot(y)\n",
    "    axs[int((pid-1) // 3), int((pid-1) % 3)].set_title(f'Participant {pid}')\n",
    "\n",
    "for ax in axs.flat:\n",
    "    ax.set(ylabel='Strain')\n",
    "\n",
    "# Hide x labels and tick labels for top plots and y ticks for right plots.\n",
    "for ax in axs.flat:\n",
    "    ax.label_outer()"
   ]
  },
  {
   "cell_type": "code",
   "execution_count": null,
   "metadata": {},
   "outputs": [],
   "source": [
    "corrmat = raw_data.corr()\n",
    "f, ax = plt.subplots(figsize=(12, 9))\n",
    "sns.heatmap(corrmat, vmax=.8, square=True)\n",
    "\n",
    "corr = train_df_copy[columns].dropna().corr()\n",
    "plt.figure(figsize = (16,16))\n",
    "sns.set(font_scale=1)\n",
    "sns.heatmap(corr, cbar = True, annot=True, square = True, fmt = '.2f', xticklabels=True, yticklabels=True) \n",
    "plt.show()"
   ]
  },
  {
   "cell_type": "code",
   "execution_count": null,
   "metadata": {},
   "outputs": [],
   "source": [
    "\"Let's look\""
   ]
  },
  {
   "cell_type": "code",
   "execution_count": null,
   "metadata": {},
   "outputs": [],
   "source": [
    "# 1. https://www.researchgate.net/publication/289128300_How_to_monitor_training_load_and_mode_using_sRPE\n",
    "# \"if the same total training load was instead equally divided into several consecutive ‘medium’ training days, the score for monotony would be high and the athlete’s risk of illness, overtraining and under-performance would increase.\""
   ]
  }
 ],
 "metadata": {
  "kernelspec": {
   "display_name": "Python 2",
   "language": "python",
   "name": "python2"
  },
  "language_info": {
   "codemirror_mode": {
    "name": "ipython",
    "version": 2
   },
   "file_extension": ".py",
   "mimetype": "text/x-python",
   "name": "python",
   "nbconvert_exporter": "python",
   "pygments_lexer": "ipython2",
   "version": "2.7.6"
  }
 },
 "nbformat": 4,
 "nbformat_minor": 0
}
